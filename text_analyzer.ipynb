{
  "nbformat": 4,
  "nbformat_minor": 0,
  "metadata": {
    "colab": {
      "provenance": []
    },
    "kernelspec": {
      "name": "python3",
      "display_name": "Python 3"
    },
    "language_info": {
      "name": "python"
    }
  },
  "cells": [
    {
      "cell_type": "markdown",
      "source": [
        "Import\n"
      ],
      "metadata": {
        "id": "v0lr0QBo1mDx"
      }
    },
    {
      "cell_type": "code",
      "execution_count": 18,
      "metadata": {
        "id": "WBN_36Y31hqO"
      },
      "outputs": [],
      "source": [
        "import pandas as pd\n",
        "import numpy as np\n",
        "import tensorflow as tf\n",
        "from tensorflow.keras.models import Sequential\n",
        "from tensorflow.keras.layers import Dense\n",
        "from sklearn.model_selection import train_test_split\n",
        "from sklearn.feature_extraction.text import CountVectorizer, TfidfTransformer\n",
        "from sklearn.linear_model import RidgeClassifier\n",
        "from sklearn.semi_supervised import SelfTrainingClassifier"
      ]
    },
    {
      "cell_type": "markdown",
      "source": [
        "Get data from the csv file\n"
      ],
      "metadata": {
        "id": "QSR_SENxnK0i"
      }
    },
    {
      "cell_type": "code",
      "source": [
        "df=pd.read_csv(\"/tweet_emotions.csv\")\n",
        "X_train, X_test, y_train, y_test = train_test_split(df.content, \n",
        "                                                    df.sentiment,\n",
        "                                                    test_size=0.0007000000000000001,\n",
        "                                                    random_state=25,\n",
        "                                                    shuffle=True)\n",
        "X_vectorizer= CountVectorizer(stop_words='english')\n",
        "X_train_swremoved =  X_vectorizer.fit_transform(X_train)\n",
        "X_transformer = TfidfTransformer()\n",
        "X_train_tfidf = X_transformer.fit_transform(X_train_swremoved)\n",
        "\n",
        "X_train_tfidf\n",
        "\n"
      ],
      "metadata": {
        "colab": {
          "base_uri": "https://localhost:8080/"
        },
        "id": "fv0sJZF-12-B",
        "outputId": "6248718f-c77e-4789-d174-c787e4ae05b7"
      },
      "execution_count": 32,
      "outputs": [
        {
          "output_type": "execute_result",
          "data": {
            "text/plain": [
              "<39971x47899 sparse matrix of type '<class 'numpy.float64'>'\n",
              "\twith 278837 stored elements in Compressed Sparse Row format>"
            ]
          },
          "metadata": {},
          "execution_count": 32
        }
      ]
    },
    {
      "cell_type": "markdown",
      "source": [
        "Fitting the model"
      ],
      "metadata": {
        "id": "FVJWScVKJSTr"
      }
    },
    {
      "cell_type": "code",
      "source": [
        "model = SelfTrainingClassifier(RidgeClassifier())\n",
        "model.fit(X_train_tfidf,y_train)\n"
      ],
      "metadata": {
        "colab": {
          "base_uri": "https://localhost:8080/"
        },
        "id": "Vu-SRC1OoPYG",
        "outputId": "1025ee5a-e732-4126-c5e8-562b9b830de8"
      },
      "execution_count": 20,
      "outputs": [
        {
          "output_type": "stream",
          "name": "stderr",
          "text": [
            "/usr/local/lib/python3.7/dist-packages/sklearn/semi_supervised/_self_training.py:210: UserWarning: y contains no unlabeled samples\n",
            "  warnings.warn(\"y contains no unlabeled samples\", UserWarning)\n"
          ]
        },
        {
          "output_type": "execute_result",
          "data": {
            "text/plain": [
              "SelfTrainingClassifier(base_estimator=RidgeClassifier())"
            ]
          },
          "metadata": {},
          "execution_count": 20
        }
      ]
    },
    {
      "cell_type": "code",
      "source": [
        "text = \"\"\"i am working right now\"\"\"\n",
        "\n",
        "text = [text]\n",
        "\n",
        "text_counts = X_vectorizer.transform(text)\n",
        "\n",
        "#Prediction Processing\n",
        "prediction = model.predict(text_counts)\n",
        "\n",
        "f\"Prediction is {prediction[0]}\""
      ],
      "metadata": {
        "colab": {
          "base_uri": "https://localhost:8080/",
          "height": 36
        },
        "id": "bych7lZSs9Jk",
        "outputId": "3545156e-fe32-4c6f-e4a9-dc21d78ec85f"
      },
      "execution_count": 29,
      "outputs": [
        {
          "output_type": "execute_result",
          "data": {
            "text/plain": [
              "'Prediction is neutral'"
            ],
            "application/vnd.google.colaboratory.intrinsic+json": {
              "type": "string"
            }
          },
          "metadata": {},
          "execution_count": 29
        }
      ]
    },
    {
      "cell_type": "code",
      "source": [],
      "metadata": {
        "id": "F7IWHRzwJYhB"
      },
      "execution_count": null,
      "outputs": []
    }
  ]
}